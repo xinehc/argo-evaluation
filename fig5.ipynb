{
 "cells": [
  {
   "cell_type": "markdown",
   "id": "2a8f5588-79a7-4e0b-b7f9-57591670d0cc",
   "metadata": {},
   "source": [
    "# Fig 5. Application of Argo to human and non-human primate fecal samples\n",
    "\n",
    "####  Dependencies:\n",
    "    - argo==0.1.0\n",
    "    - pandas\n",
    "    - biopython\n",
    "\n",
    "#### Inputs:\n",
    "    - fig5/data/*/*.fa (329 metagenomic samples, quality controlled with porechop '--discard_middle' & nanoq '-q 10 -l 1000')"
   ]
  },
  {
   "cell_type": "code",
   "execution_count": 1,
   "id": "ec60493a-21ff-40dd-af2c-9a77473b8321",
   "metadata": {},
   "outputs": [],
   "source": [
    "# %%bash\n",
    "# mkdir -p fig5/tmp\n",
    "# argo fig5/data/*/*.fa -d db/argo -o fig5/tmp --skip-clean -t 48 -z 0 --plasmid -k db/kraken-pluspf\n",
    "\n",
    "# python -c \"\n",
    "# import os\n",
    "# import json\n",
    "# import glob\n",
    "# import pandas as pd\n",
    "# from Bio import SeqIO\n",
    "\n",
    "# for file in glob.glob('fig5/data/*/*.fa'):\n",
    "#     filename = os.path.basename(file).split('.fa')[0]\n",
    "#     project = file.split('/')[-2]\n",
    "#     with open(f'fig5/tmp/{filename}.json') as f:\n",
    "#         ff = json.load(f)\n",
    "#     nset = {i for i,j in ff.items() if j['remark'] == 'putatively non-prokaryotic'}\n",
    "\n",
    "#     cnt = 0\n",
    "#     cntt = 0\n",
    "#     with open(file, 'rt') as handle:\n",
    "#         for record in SeqIO.parse(handle, 'fasta'):\n",
    "#             cntt += len(record.seq)\n",
    "#             if record.id in nset:\n",
    "#                 cnt += len(record.seq)\n",
    "#     pd.DataFrame([[project, filename, cntt, cnt]], columns = ['project', 'accession', 'total_bases', 'negative_bases']).to_csv(f'fig5/tmp/{filename}.bases', index=False, sep='\\t')\n",
    "# \""
   ]
  },
  {
   "cell_type": "code",
   "execution_count": 2,
   "id": "ef342854-3ce3-4e96-ab07-708609d4bc81",
   "metadata": {},
   "outputs": [],
   "source": [
    "import pandas as pd\n",
    "import glob\n",
    "import json\n",
    "import os\n",
    "from tqdm import tqdm\n",
    "import re\n",
    "\n",
    "import numpy as np"
   ]
  },
  {
   "cell_type": "code",
   "execution_count": 3,
   "id": "a2011620-70a4-4340-896f-1a9e5fa47ccb",
   "metadata": {},
   "outputs": [
    {
     "name": "stderr",
     "output_type": "stream",
     "text": [
      "100%|████████████████████████████████████████| 658/658 [00:01<00:00, 399.41it/s]\n",
      "100%|████████████████████████████████████████| 329/329 [00:00<00:00, 419.90it/s]\n",
      "100%|████████████████████████████████████████| 329/329 [00:01<00:00, 325.87it/s]\n"
     ]
    }
   ],
   "source": [
    "f2gc = dict()\n",
    "f2div = dict()\n",
    "\n",
    "stats = []\n",
    "for file in tqdm(glob.glob('fig5/tmp/*.tsv')):\n",
    "    if 'sarg' not in file:\n",
    "        with open(file) as f:\n",
    "            df = pd.read_table(file)\n",
    "            filename = os.path.basename(file).split('.')[0]\n",
    "            stats.append(df.assign(accession = filename))\n",
    "            f2gc[filename] = df['copy'].sum()\n",
    "            f2div[filename] =  sum (df['abundance'].map(np.log) * df['abundance'] * -1)\n",
    "\n",
    "stats = pd.concat(stats)\n",
    "\n",
    "bases = []\n",
    "for file in tqdm(glob.glob('fig5/tmp/*.bases')):\n",
    "    df = pd.read_table(file)\n",
    "    df['bases'] = (df.total_bases - df.negative_bases) / 1e6\n",
    "    bases.append(df.drop(['total_bases', 'negative_bases'], axis=1))\n",
    "\n",
    "stats['genus'] = stats.genus.map(lambda x: re.sub('_[A-Z]', '', x))\n",
    "\n",
    "bases = pd.concat(bases)\n",
    "bases['gc'] = bases.accession.map(f2gc)\n",
    "bases['ags'] = bases['bases'] / bases['gc']\n",
    "\n",
    "bases['country'] = bases.project.map({\n",
    "    'PRJDB8879': 'KR',\n",
    "    'PRJNA798244': 'KR',\n",
    "    'PRJEB49168': 'SG',\n",
    "    'PRJNA763692': 'CN',\n",
    "    'PRJNA820119': 'CN',\n",
    "    'PRJNA842693': 'NH',\n",
    "    'PRJNA929328': 'DE',\n",
    "    'PRJNA940499': 'US',\n",
    "    'PRJNA508395': 'US',\n",
    "})\n",
    "\n",
    "args = []\n",
    "for file in tqdm(glob.glob('fig5/tmp/*.sarg.tsv')):\n",
    "    df = pd.read_table(file).assign(accession = file.split('.sarg')[0].split('/')[-1])\n",
    "    args.append(df)\n",
    "\n",
    "args = pd.concat(args)\n",
    "args['genus'] = args.lineage.str.split(';').str.get(-2).fillna('').map(lambda x: re.sub('_[A-Z]', '', x))\n",
    "args['species'] = args.lineage.str.split(';').str.get(-1).map(lambda x: re.sub('_[A-Z]', '', x))"
   ]
  },
  {
   "cell_type": "markdown",
   "id": "7f107679-0b96-40ae-ace4-c9ed51a93754",
   "metadata": {},
   "source": [
    "#### Fig. 5a"
   ]
  },
  {
   "cell_type": "code",
   "execution_count": 4,
   "id": "42945111-6a73-4ef2-9b03-72ccecc63f6a",
   "metadata": {},
   "outputs": [],
   "source": [
    "df = pd.merge(pd.concat([\n",
    "    stats.groupby(['accession', 'genus'], as_index=False)['copy'].sum(),\n",
    "    stats.groupby('accession', as_index=False)['copy'].sum().assign(genus='all')\n",
    "]), pd.concat([\n",
    "    args.groupby(['accession', 'genus'], as_index=False)['copy'].sum(),\n",
    "    args.groupby('accession', as_index=False)['copy'].sum().assign(genus='all')\n",
    "]).rename(columns = {'copy': 'arg_copy'}))\n",
    "\n",
    "df['cpg'] = df['arg_copy'] / df['copy']\n",
    "df = pd.merge(bases, df)\n",
    "df['group'] = 'commensal'\n",
    "df.loc[df.genus.isin({'Streptococcus', 'Escherichia'}), 'group'] = 'pathogen'\n",
    "df.loc[df.genus.isin({'all'}), 'group'] = 'all'\n",
    "\n",
    "df.sort_values(['country', 'accession']).to_csv('fig5/genus_copies.tsv', sep='\\t', index=False)"
   ]
  },
  {
   "cell_type": "markdown",
   "id": "209bf67a-01e2-4e0e-86ef-2de0268a1601",
   "metadata": {},
   "source": [
    "#### Fig. 5b–c"
   ]
  },
  {
   "cell_type": "code",
   "execution_count": 5,
   "id": "8b7f340f-a344-4b8c-a8f3-e246324245d4",
   "metadata": {},
   "outputs": [],
   "source": [
    "df = bases.copy()\n",
    "df['div'] = df.accession.map(f2div)\n",
    "df['arg_copies'] = df.accession.map(args.groupby('accession')['copy'].sum().to_dict())\n",
    "df['cpg'] = df['arg_copies'] / df['gc']\n",
    "df.sort_values(['country', 'accession']).to_csv('fig5/total_copies.tsv', sep='\\t', index=False)"
   ]
  },
  {
   "cell_type": "markdown",
   "id": "ce2ddedb-6c9a-4e01-a7f5-670184072085",
   "metadata": {},
   "source": [
    "#### Fig. 5d–e"
   ]
  },
  {
   "cell_type": "code",
   "execution_count": 6,
   "id": "b10c1739-66ba-498e-af5f-ffafbbe884b4",
   "metadata": {},
   "outputs": [],
   "source": [
    "df = pd.merge(\n",
    "    bases[['country', 'accession']],\n",
    "    stats.groupby(['accession', 'genus']).abundance.sum().unstack().fillna(0).reset_index()\n",
    ")\n",
    "df.sort_values(['country', 'accession']).to_csv('fig5/abun.tsv', sep='\\t', index=False)\n",
    "\n",
    "df = pd.merge(\n",
    "    stats.groupby(['accession'], as_index=False)['copy'].sum(),\n",
    "    args.groupby(['accession', 'type'], as_index=False)['copy'].sum().rename(columns = {'copy': 'arg.copy'})\n",
    ")\n",
    "df['cpg'] = df['arg.copy'] / df['copy']\n",
    "df = pd.merge(df, bases[['accession', 'country']])\n",
    "\n",
    "df = df.set_index(['country', 'accession', 'type']).drop(['copy', 'arg.copy'], axis=1).cpg.unstack().reset_index().fillna(0)\n",
    "df.sort_values(['country', 'accession']).to_csv('fig5/abun2.tsv', sep='\\t', index=False)"
   ]
  },
  {
   "cell_type": "markdown",
   "id": "e1e5205f-9465-4314-af9f-82d743b92378",
   "metadata": {},
   "source": [
    "#### fig. 5f–g"
   ]
  },
  {
   "cell_type": "code",
   "execution_count": 7,
   "id": "d427bc33-5490-43a7-b854-9b1d47b1ef27",
   "metadata": {},
   "outputs": [],
   "source": [
    "ec = args[args.species.str.contains('Escherichia coli')].copy()\n",
    "cp = pd.merge(stats, bases)\n",
    "cp = cp[cp.species.str.contains('Escherichia coli')].groupby('country')['copy'].sum().reset_index()\n",
    "\n",
    "df = pd.merge(\n",
    "    pd.merge(ec, bases).groupby(['country', 'type'], as_index=False)['copy'].sum().rename(columns = {'copy': 'arg.copy'}),\n",
    "    pd.merge(ec, bases).groupby(['country', 'type'], as_index=False)['subtype'].nunique().rename(columns = {'subtype': 'n'}))\n",
    "df = pd.merge(df, cp)\n",
    "\n",
    "df['cpg'] = df['arg.copy'] / df['copy']\n",
    "df.sort_values('country').to_csv('fig5/ecoli.tsv', sep='\\t', index=False)\n",
    "\n",
    "df = pd.merge(ec, bases).groupby(['country', 'type', 'subtype'], as_index=False)['copy'].sum().rename(columns = {'copy': 'arg.copy'})\n",
    "df = pd.merge(df, cp)\n",
    "\n",
    "df['cpg'] = df['arg.copy'] / df['copy']\n",
    "df.sort_values('country').to_csv('fig5/ecoli2.tsv', sep='\\t', index=False)"
   ]
  },
  {
   "cell_type": "markdown",
   "id": "04ce25c3-c668-4c3f-975b-051148c7902d",
   "metadata": {},
   "source": [
    "#### fig. 5h"
   ]
  },
  {
   "cell_type": "code",
   "execution_count": 8,
   "id": "3e462f86-e5c1-4687-a3dd-1c2e3fb10c8f",
   "metadata": {},
   "outputs": [],
   "source": [
    "df = pd.merge(\n",
    "    stats.groupby(['accession', 'species'], as_index=False)['copy'].sum(),\n",
    "    args.groupby(['accession', 'subtype', 'species'], as_index=False)['copy'].sum().rename(columns = {'copy': 'arg.copy'})\n",
    ")\n",
    "df['cpg'] = df['arg.copy'] / df['copy']\n",
    "df = df[df['copy'] >=1]\n",
    "df['id'] = df['species'] + '@' + df['subtype']\n",
    "df = df[df.subtype.str.contains('sul|mcr')]\n",
    "df = pd.merge(df, bases[['accession', 'country']])\n",
    "\n",
    "df = df.set_index(['accession','id']).drop(['species', 'copy', 'subtype', 'arg.copy'],axis=1).cpg.unstack().fillna(0)\n",
    "df.corr(method='spearman').sort_index().to_csv('fig5/cor.tsv', sep='\\t')"
   ]
  }
 ],
 "metadata": {
  "kernelspec": {
   "display_name": "Python 3 (ipykernel)",
   "language": "python",
   "name": "python3"
  },
  "language_info": {
   "codemirror_mode": {
    "name": "ipython",
    "version": 3
   },
   "file_extension": ".py",
   "mimetype": "text/x-python",
   "name": "python",
   "nbconvert_exporter": "python",
   "pygments_lexer": "ipython3",
   "version": "3.11.0"
  }
 },
 "nbformat": 4,
 "nbformat_minor": 5
}
