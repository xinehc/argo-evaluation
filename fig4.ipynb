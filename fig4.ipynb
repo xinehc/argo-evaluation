{
 "cells": [
  {
   "cell_type": "markdown",
   "id": "da759685-9169-4b0b-b396-fc43abc2120b",
   "metadata": {},
   "source": [
    "# Fig 4. Performance evaluation with sequenced mock communities\n",
    "\n",
    "####  Dependencies:\n",
    "    - argo==0.1.0\n",
    "    - pandas\n",
    "\n",
    "#### Inputs:\n",
    "    - fig4/data/*.fa (mock communities d6330, d6331, msa1003, and msa2006, quality-controlled with porechop '--discard_middle' & nanoq '-q 10 -l 1000', non-prokaryotic/unmapped reads removed with minimap2 + seqkit)"
   ]
  },
  {
   "cell_type": "code",
   "execution_count": 1,
   "id": "038816c0-77e9-4eb5-9efe-a8d111a40669",
   "metadata": {},
   "outputs": [],
   "source": [
    "# %%bash\n",
    "# mkdir -p fig4/tmp\n",
    "# argo fig4/data/*.fa -d db/argo -o fig4/tmp --skip-clean -t 48 -z 0 --plasmid"
   ]
  },
  {
   "cell_type": "code",
   "execution_count": 2,
   "id": "c9dd8068-4e52-4325-bd4f-af082ad9dee4",
   "metadata": {},
   "outputs": [],
   "source": [
    "import pandas as pd\n",
    "import re\n",
    "from scipy.stats import pearsonr\n",
    "\n",
    "def pr(df):\n",
    "    df = df[df.species!='unclassified']\n",
    "    TP = len(df[(df['est']!=0) & (df['cnt']!=0)])\n",
    "    TPFP = len(df[df['est']!=0])\n",
    "    TPFN = len(df[df['cnt']!=0])\n",
    "    precision, recall = TP/TPFP, TP/TPFN\n",
    "    return precision, recall"
   ]
  },
  {
   "cell_type": "code",
   "execution_count": 3,
   "id": "24ea3e81-6570-4707-a1ac-ebf12d77c75a",
   "metadata": {},
   "outputs": [],
   "source": [
    "p = []\n",
    "r = []\n",
    "folder = 'fig4/tmp'\n",
    "for filename in ['d6300', 'd6331', 'msa1003', 'msa2006']:\n",
    "    est = pd.read_table(f'{folder}/{filename}.sarg.tsv')\n",
    "    est['species'] = est['lineage'].str.split(';').str.get(-1)\n",
    "    est['species'] = est.species.apply(lambda x: re.sub('_[A-Z]','',x))\n",
    "    est['est'] = est['abundance']\n",
    "    est = est[est.species!='unclassified']\n",
    "    est = est.groupby(['species', 'subtype', 'genome']).est.sum().reset_index()\n",
    "\n",
    "    ## fixed according to gtdbtk's taxonomic assignments\n",
    "    real = pd.read_table(f'sarg/{filename}.sarg.tsv')\n",
    "    real.species = real.species.apply(lambda x: {\n",
    "        \"Bacillus subtilis\": \"Bacillus spizizenii\",\n",
    "        \"Lactobacillus fermentum\": \"Limosilactobacillus fermentum\",\n",
    "        \"Schaalia odontolytica\": \"Pauljensenia odontolytica\",\n",
    "        \"Clostridium perfringens\": \"Sarcina perfringens\",\n",
    "    }.get(x,x)).apply(lambda x: re.sub('_[A-Z]','',x))\n",
    "    \n",
    "    if filename == 'msa1003':\n",
    "        real.species = real.species.apply(lambda x: {\n",
    "        \"Pseudomonas aeruginosa\": \"Pseudomonas paraeruginosa\"}.get(x,x))\n",
    "\n",
    "    if filename == 'd6331':\n",
    "        real.species = real.species.apply(lambda x: {\n",
    "        \"Fusobacterium nucleatum\": \"Fusobacterium animalis\"}.get(x,x))\n",
    "    \n",
    "    real = real.groupby(['species', 'subtype']).cnt.sum().reset_index()\n",
    "    df = pd.merge(real, est, how='outer').fillna(0)\n",
    "    p.append([*pr(df), filename, 'subtype'])\n",
    "    r.append([pearsonr(df.cnt, df.est).statistic, pearsonr(df.cnt, df.est).pvalue, filename, 'subtype'])\n",
    "    \n",
    "    df.to_csv(f'fig4/{filename}.subtype.tsv', index=False, sep='\\t')"
   ]
  },
  {
   "cell_type": "code",
   "execution_count": 4,
   "id": "c0ce5995-d126-4aae-9222-268033e9d5e4",
   "metadata": {},
   "outputs": [],
   "source": [
    "for filename in ['d6300', 'd6331', 'msa1003', 'msa2006']:\n",
    "    est = pd.read_table(f'{folder}/{filename}.sarg.tsv')\n",
    "    est['species'] = est['lineage'].str.split(';').str.get(-1)\n",
    "    est['species'] = est.species.apply(lambda x: re.sub('_[A-Z]','',x))\n",
    "    est['est'] = est['abundance']\n",
    "    est = est[est.species!='unclassified']\n",
    "    est = est.groupby(['species', 'type', 'genome']).est.sum().reset_index()\n",
    "\n",
    "    ## fixed according to gtdbtk's taxonomic assignments\n",
    "    real = pd.read_table(f'sarg/{filename}.sarg.tsv')\n",
    "    real.species = real.species.apply(lambda x: {\n",
    "        \"Bacillus subtilis\": \"Bacillus spizizenii\",\n",
    "        \"Lactobacillus fermentum\": \"Limosilactobacillus fermentum\",\n",
    "        \"Schaalia odontolytica\": \"Pauljensenia odontolytica\",\n",
    "        \"Clostridium perfringens\": \"Sarcina perfringens\",\n",
    "    }.get(x,x)).apply(lambda x: re.sub('_[A-Z]','',x))\n",
    "    \n",
    "    if filename == 'msa1003':\n",
    "        real.species = real.species.apply(lambda x: {\n",
    "        \"Pseudomonas aeruginosa\": \"Pseudomonas paraeruginosa\"}.get(x,x))\n",
    "\n",
    "    if filename == 'd6331':\n",
    "        real.species = real.species.apply(lambda x: {\n",
    "        \"Fusobacterium nucleatum\": \"Fusobacterium animalis\"}.get(x,x))\n",
    "    \n",
    "    real = real.groupby(['species', 'type']).cnt.sum().reset_index()\n",
    "    df = pd.merge(real, est, how='outer').fillna(0)\n",
    "    p.append([*pr(df), filename, 'type'])\n",
    "    r.append([pearsonr(df.cnt, df.est).statistic, pearsonr(df.cnt, df.est).pvalue, filename, 'type'])\n",
    "    \n",
    "    df.to_csv(f'fig4/{filename}.type.tsv', index=False, sep='\\t')"
   ]
  },
  {
   "cell_type": "code",
   "execution_count": 5,
   "id": "7e084095-7882-4935-8195-ec956d07fa3b",
   "metadata": {},
   "outputs": [],
   "source": [
    "pd.DataFrame(p, columns = ['p', 'r', 'filename', 'type']).to_csv('fig4/pr.tsv', sep='\\t', index=False)"
   ]
  },
  {
   "cell_type": "code",
   "execution_count": 6,
   "id": "1d810b24-1fe9-47df-af82-170d07570046",
   "metadata": {},
   "outputs": [],
   "source": [
    "pd.DataFrame(r, columns = ['r', 'p', 'filename', 'type']).to_csv('fig4/corr.tsv', sep='\\t', index=False)"
   ]
  }
 ],
 "metadata": {
  "kernelspec": {
   "display_name": "Python 3 (ipykernel)",
   "language": "python",
   "name": "python3"
  },
  "language_info": {
   "codemirror_mode": {
    "name": "ipython",
    "version": 3
   },
   "file_extension": ".py",
   "mimetype": "text/x-python",
   "name": "python",
   "nbconvert_exporter": "python",
   "pygments_lexer": "ipython3",
   "version": "3.11.0"
  }
 },
 "nbformat": 4,
 "nbformat_minor": 5
}
